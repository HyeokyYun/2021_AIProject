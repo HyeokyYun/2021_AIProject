{
  "nbformat": 4,
  "nbformat_minor": 0,
  "metadata": {
    "colab": {
      "name": "0309.ipynb",
      "provenance": [],
      "authorship_tag": "ABX9TyP/TouzXDcl7PQzIkFsIm4p",
      "include_colab_link": true
    },
    "kernelspec": {
      "name": "python3",
      "display_name": "Python 3"
    }
  },
  "cells": [
    {
      "cell_type": "markdown",
      "metadata": {
        "id": "view-in-github",
        "colab_type": "text"
      },
      "source": [
        "<a href=\"https://colab.research.google.com/github/HyeokyYun/2021_AIProject/blob/main/0309.ipynb\" target=\"_parent\"><img src=\"https://colab.research.google.com/assets/colab-badge.svg\" alt=\"Open In Colab\"/></a>"
      ]
    },
    {
      "cell_type": "code",
      "metadata": {
        "colab": {
          "base_uri": "https://localhost:8080/"
        },
        "id": "ErYkmdI3erRg",
        "outputId": "5c472c12-9a36-496b-8684-f87106dc78dd"
      },
      "source": [
        "print(\"Hello World!\")"
      ],
      "execution_count": 1,
      "outputs": [
        {
          "output_type": "stream",
          "text": [
            "Hello World!\n"
          ],
          "name": "stdout"
        }
      ]
    },
    {
      "cell_type": "code",
      "metadata": {
        "colab": {
          "base_uri": "https://localhost:8080/"
        },
        "id": "A2TKQxJTjoBb",
        "outputId": "fa13fdd7-1fd6-43db-eb52-fe8c15ae5376"
      },
      "source": [
        "for x in range(1, 10):\n",
        "  y = 2*x*x\n",
        "  y = y+3*x\n",
        "  \n",
        "y = y + 5\n",
        "print(y)"
      ],
      "execution_count": 4,
      "outputs": [
        {
          "output_type": "stream",
          "text": [
            "194\n"
          ],
          "name": "stdout"
        }
      ]
    },
    {
      "cell_type": "code",
      "metadata": {
        "colab": {
          "base_uri": "https://localhost:8080/"
        },
        "id": "DBfNbCcxlZ9f",
        "outputId": "2a6ecbfb-9a62-435f-d187-efec4e7dc053"
      },
      "source": [
        "for x in range(1, 10):\n",
        "  y = x +1\n",
        "  print(y)"
      ],
      "execution_count": 6,
      "outputs": [
        {
          "output_type": "stream",
          "text": [
            "2\n",
            "3\n",
            "4\n",
            "5\n",
            "6\n",
            "7\n",
            "8\n",
            "9\n",
            "10\n"
          ],
          "name": "stdout"
        }
      ]
    },
    {
      "cell_type": "code",
      "metadata": {
        "colab": {
          "base_uri": "https://localhost:8080/"
        },
        "id": "lTmNgJXMlza7",
        "outputId": "bd4cd91f-1ccb-4416-99b8-a23e9e3c75c7"
      },
      "source": [
        "a = 10\n",
        "a\n",
        "print(a)"
      ],
      "execution_count": 8,
      "outputs": [
        {
          "output_type": "stream",
          "text": [
            "10\n"
          ],
          "name": "stdout"
        }
      ]
    },
    {
      "cell_type": "code",
      "metadata": {
        "colab": {
          "base_uri": "https://localhost:8080/"
        },
        "id": "N-t_myQbl_Fa",
        "outputId": "217a0bc2-adc9-41ea-a1c6-aa1e7de4a2fa"
      },
      "source": [
        "print(type(a))"
      ],
      "execution_count": 9,
      "outputs": [
        {
          "output_type": "stream",
          "text": [
            "<class 'int'>\n"
          ],
          "name": "stdout"
        }
      ]
    },
    {
      "cell_type": "code",
      "metadata": {
        "colab": {
          "base_uri": "https://localhost:8080/"
        },
        "id": "cT2khN_LmONw",
        "outputId": "ff163ac2-c51c-4760-f5eb-b6b554cb388f"
      },
      "source": [
        "x = 'hello'\n",
        "y = 'world'\n",
        "z = x + ' ' + y\n",
        "print(z)\n",
        "len(z)"
      ],
      "execution_count": 10,
      "outputs": [
        {
          "output_type": "stream",
          "text": [
            "hello world\n"
          ],
          "name": "stdout"
        },
        {
          "output_type": "execute_result",
          "data": {
            "text/plain": [
              "11"
            ]
          },
          "metadata": {
            "tags": []
          },
          "execution_count": 10
        }
      ]
    },
    {
      "cell_type": "code",
      "metadata": {
        "colab": {
          "base_uri": "https://localhost:8080/",
          "height": 35
        },
        "id": "_4zheb7am9IQ",
        "outputId": "3d50ad4c-e0df-4f44-c619-40a045195742"
      },
      "source": [
        "z[2]"
      ],
      "execution_count": 11,
      "outputs": [
        {
          "output_type": "execute_result",
          "data": {
            "application/vnd.google.colaboratory.intrinsic+json": {
              "type": "string"
            },
            "text/plain": [
              "'l'"
            ]
          },
          "metadata": {
            "tags": []
          },
          "execution_count": 11
        }
      ]
    },
    {
      "cell_type": "code",
      "metadata": {
        "colab": {
          "base_uri": "https://localhost:8080/",
          "height": 35
        },
        "id": "Ppi01nuynEFb",
        "outputId": "1f199d39-ef21-482c-f355-4ba706b754db"
      },
      "source": [
        "z[1]"
      ],
      "execution_count": 12,
      "outputs": [
        {
          "output_type": "execute_result",
          "data": {
            "application/vnd.google.colaboratory.intrinsic+json": {
              "type": "string"
            },
            "text/plain": [
              "'e'"
            ]
          },
          "metadata": {
            "tags": []
          },
          "execution_count": 12
        }
      ]
    },
    {
      "cell_type": "code",
      "metadata": {
        "colab": {
          "base_uri": "https://localhost:8080/",
          "height": 35
        },
        "id": "RF6CeFcnnHq1",
        "outputId": "a6de671f-e502-473c-e4f7-49391a8caa63"
      },
      "source": [
        "z[0:3]"
      ],
      "execution_count": 13,
      "outputs": [
        {
          "output_type": "execute_result",
          "data": {
            "application/vnd.google.colaboratory.intrinsic+json": {
              "type": "string"
            },
            "text/plain": [
              "'hel'"
            ]
          },
          "metadata": {
            "tags": []
          },
          "execution_count": 13
        }
      ]
    },
    {
      "cell_type": "code",
      "metadata": {
        "colab": {
          "base_uri": "https://localhost:8080/",
          "height": 35
        },
        "id": "HWiNll7onKXo",
        "outputId": "25ec9d14-8520-4e0e-b282-6a9a9f928542"
      },
      "source": [
        "z[0:5:2]"
      ],
      "execution_count": 17,
      "outputs": [
        {
          "output_type": "execute_result",
          "data": {
            "application/vnd.google.colaboratory.intrinsic+json": {
              "type": "string"
            },
            "text/plain": [
              "'hlo'"
            ]
          },
          "metadata": {
            "tags": []
          },
          "execution_count": 17
        }
      ]
    },
    {
      "cell_type": "code",
      "metadata": {
        "colab": {
          "base_uri": "https://localhost:8080/"
        },
        "id": "Fx63R7XnnPL_",
        "outputId": "dbc21863-cedf-428d-e309-3379f958314d"
      },
      "source": [
        "len(\"HGU\")"
      ],
      "execution_count": 18,
      "outputs": [
        {
          "output_type": "execute_result",
          "data": {
            "text/plain": [
              "3"
            ]
          },
          "metadata": {
            "tags": []
          },
          "execution_count": 18
        }
      ]
    },
    {
      "cell_type": "code",
      "metadata": {
        "colab": {
          "base_uri": "https://localhost:8080/"
        },
        "id": "X4jMUvtTn4lz",
        "outputId": "f24c548a-126e-4a8e-b3d6-01eb4a325902"
      },
      "source": [
        "print(str.lower('HGU'))"
      ],
      "execution_count": 20,
      "outputs": [
        {
          "output_type": "stream",
          "text": [
            "hgu\n"
          ],
          "name": "stdout"
        }
      ]
    },
    {
      "cell_type": "code",
      "metadata": {
        "colab": {
          "base_uri": "https://localhost:8080/"
        },
        "id": "7YPN0D8nn9zj",
        "outputId": "bdb8a837-3962-472e-ceee-f164cc2e623e"
      },
      "source": [
        "print(str.upper('hgu'))"
      ],
      "execution_count": 21,
      "outputs": [
        {
          "output_type": "stream",
          "text": [
            "HGU\n"
          ],
          "name": "stdout"
        }
      ]
    },
    {
      "cell_type": "code",
      "metadata": {
        "colab": {
          "base_uri": "https://localhost:8080/"
        },
        "id": "H7oOg3TToBvp",
        "outputId": "c89b749d-a6b1-4882-b71f-c198d1f58ef4"
      },
      "source": [
        "x = [2, 1, 4, 6]\n",
        "y = [1, 3.5, 'HGU']\n",
        "y[0:2]"
      ],
      "execution_count": 23,
      "outputs": [
        {
          "output_type": "execute_result",
          "data": {
            "text/plain": [
              "[1, 3.5]"
            ]
          },
          "metadata": {
            "tags": []
          },
          "execution_count": 23
        }
      ]
    },
    {
      "cell_type": "code",
      "metadata": {
        "colab": {
          "base_uri": "https://localhost:8080/"
        },
        "id": "POHfIsB8oR7O",
        "outputId": "a01c1db1-16bc-43fa-b4e2-681ef7cf5143"
      },
      "source": [
        "y[0:]"
      ],
      "execution_count": 24,
      "outputs": [
        {
          "output_type": "execute_result",
          "data": {
            "text/plain": [
              "[1, 3.5, 'HGU']"
            ]
          },
          "metadata": {
            "tags": []
          },
          "execution_count": 24
        }
      ]
    },
    {
      "cell_type": "code",
      "metadata": {
        "colab": {
          "base_uri": "https://localhost:8080/"
        },
        "id": "dcIBnDiIoXHm",
        "outputId": "afb53b71-f6c4-45ea-f51a-28545d155453"
      },
      "source": [
        "a = [1, 2, 3, 4, 5]\n",
        "print(a[0:2])\n",
        "print(a[0:-1])\n",
        "print(a[::-1])\n",
        "print(a[::2])\n",
        "print(a[::-2])"
      ],
      "execution_count": 25,
      "outputs": [
        {
          "output_type": "stream",
          "text": [
            "[1, 2]\n",
            "[1, 2, 3, 4]\n",
            "[5, 4, 3, 2, 1]\n",
            "[1, 3, 5]\n",
            "[5, 3, 1]\n"
          ],
          "name": "stdout"
        }
      ]
    },
    {
      "cell_type": "code",
      "metadata": {
        "colab": {
          "base_uri": "https://localhost:8080/"
        },
        "id": "cZr0Yaolo69V",
        "outputId": "845c743e-25a5-43f0-ce0a-94cda7f21b16"
      },
      "source": [
        "x = ['i', 'love', 'you']\n",
        "x"
      ],
      "execution_count": 26,
      "outputs": [
        {
          "output_type": "execute_result",
          "data": {
            "text/plain": [
              "['i', 'love', 'you']"
            ]
          },
          "metadata": {
            "tags": []
          },
          "execution_count": 26
        }
      ]
    },
    {
      "cell_type": "code",
      "metadata": {
        "id": "z4WTF5hTpfaY"
      },
      "source": [
        "x[2] = 'hgu'"
      ],
      "execution_count": 27,
      "outputs": []
    },
    {
      "cell_type": "code",
      "metadata": {
        "colab": {
          "base_uri": "https://localhost:8080/"
        },
        "id": "ZloNcNEbpiCZ",
        "outputId": "abf0553e-aa0a-4856-8dbf-763279e522fa"
      },
      "source": [
        "x"
      ],
      "execution_count": 28,
      "outputs": [
        {
          "output_type": "execute_result",
          "data": {
            "text/plain": [
              "['i', 'love', 'hgu']"
            ]
          },
          "metadata": {
            "tags": []
          },
          "execution_count": 28
        }
      ]
    },
    {
      "cell_type": "code",
      "metadata": {
        "id": "M9LjndB4pih2"
      },
      "source": [
        "x.append('university')"
      ],
      "execution_count": 29,
      "outputs": []
    },
    {
      "cell_type": "code",
      "metadata": {
        "colab": {
          "base_uri": "https://localhost:8080/"
        },
        "id": "2xzB4Y9jqGjI",
        "outputId": "f2951cad-fb36-429d-f3b9-6e12c9602f76"
      },
      "source": [
        "x"
      ],
      "execution_count": 31,
      "outputs": [
        {
          "output_type": "execute_result",
          "data": {
            "text/plain": [
              "['i', 'love', 'hgu', 'university']"
            ]
          },
          "metadata": {
            "tags": []
          },
          "execution_count": 31
        }
      ]
    },
    {
      "cell_type": "code",
      "metadata": {
        "id": "13rvOY0TqG9y"
      },
      "source": [
        "x.append(['and', 'pohang'])"
      ],
      "execution_count": 32,
      "outputs": []
    },
    {
      "cell_type": "code",
      "metadata": {
        "colab": {
          "base_uri": "https://localhost:8080/"
        },
        "id": "2wA__GZWqnwr",
        "outputId": "eae8a6c2-3dff-4e37-de4c-057e046f4b6a"
      },
      "source": [
        "x"
      ],
      "execution_count": 33,
      "outputs": [
        {
          "output_type": "execute_result",
          "data": {
            "text/plain": [
              "['i', 'love', 'hgu', 'university', ['and', 'pohang']]"
            ]
          },
          "metadata": {
            "tags": []
          },
          "execution_count": 33
        }
      ]
    },
    {
      "cell_type": "code",
      "metadata": {
        "id": "7ZMGZ8bWqogR"
      },
      "source": [
        "y = (1, 2, 3)"
      ],
      "execution_count": 34,
      "outputs": []
    },
    {
      "cell_type": "code",
      "metadata": {
        "colab": {
          "base_uri": "https://localhost:8080/"
        },
        "id": "H_9wA8vDrJym",
        "outputId": "8d475880-bd7b-49c6-9035-1c0bdcea9f44"
      },
      "source": [
        "y"
      ],
      "execution_count": 35,
      "outputs": [
        {
          "output_type": "execute_result",
          "data": {
            "text/plain": [
              "(1, 2, 3)"
            ]
          },
          "metadata": {
            "tags": []
          },
          "execution_count": 35
        }
      ]
    },
    {
      "cell_type": "code",
      "metadata": {
        "id": "55IeN4m-rKKb"
      },
      "source": [
        "y = (3)"
      ],
      "execution_count": 38,
      "outputs": []
    },
    {
      "cell_type": "code",
      "metadata": {
        "colab": {
          "base_uri": "https://localhost:8080/"
        },
        "id": "_1f2uUfOrK_c",
        "outputId": "3010fc8d-3af7-4cdc-947a-3c97d117672b"
      },
      "source": [
        "y"
      ],
      "execution_count": 39,
      "outputs": [
        {
          "output_type": "execute_result",
          "data": {
            "text/plain": [
              "3"
            ]
          },
          "metadata": {
            "tags": []
          },
          "execution_count": 39
        }
      ]
    },
    {
      "cell_type": "code",
      "metadata": {
        "colab": {
          "base_uri": "https://localhost:8080/"
        },
        "id": "VjXXWIsNrOFJ",
        "outputId": "c4e24022-a594-46e9-c1d0-8d67d124afbf"
      },
      "source": [
        "print(type(y))"
      ],
      "execution_count": 40,
      "outputs": [
        {
          "output_type": "stream",
          "text": [
            "<class 'int'>\n"
          ],
          "name": "stdout"
        }
      ]
    },
    {
      "cell_type": "code",
      "metadata": {
        "id": "q-KUzpWVrTB8"
      },
      "source": [
        "y = (3,)"
      ],
      "execution_count": 41,
      "outputs": []
    },
    {
      "cell_type": "code",
      "metadata": {
        "colab": {
          "base_uri": "https://localhost:8080/"
        },
        "id": "2A5ke5IOrVE4",
        "outputId": "40a12c9a-0656-44ae-88f4-dff12e2dac0b"
      },
      "source": [
        "print(type(y))"
      ],
      "execution_count": 42,
      "outputs": [
        {
          "output_type": "stream",
          "text": [
            "<class 'tuple'>\n"
          ],
          "name": "stdout"
        }
      ]
    },
    {
      "cell_type": "code",
      "metadata": {
        "colab": {
          "base_uri": "https://localhost:8080/",
          "height": 35
        },
        "id": "E1K89e99rWQk",
        "outputId": "8f2191c3-a48f-4e19-aabe-578c939dfb52"
      },
      "source": [
        "x = {1:'paul', 2:'peter', 3:'john'}\n",
        "x[2]"
      ],
      "execution_count": 43,
      "outputs": [
        {
          "output_type": "execute_result",
          "data": {
            "application/vnd.google.colaboratory.intrinsic+json": {
              "type": "string"
            },
            "text/plain": [
              "'peter'"
            ]
          },
          "metadata": {
            "tags": []
          },
          "execution_count": 43
        }
      ]
    },
    {
      "cell_type": "code",
      "metadata": {
        "colab": {
          "base_uri": "https://localhost:8080/"
        },
        "id": "Z9ZFH_lArzwl",
        "outputId": "780edc74-d6c3-4b7f-a5c8-5a1b21ac78da"
      },
      "source": [
        "print(x)"
      ],
      "execution_count": 44,
      "outputs": [
        {
          "output_type": "stream",
          "text": [
            "{1: 'paul', 2: 'peter', 3: 'john'}\n"
          ],
          "name": "stdout"
        }
      ]
    },
    {
      "cell_type": "code",
      "metadata": {
        "id": "BsRxBoUqr3YD"
      },
      "source": [
        "del(x[3])"
      ],
      "execution_count": 45,
      "outputs": []
    },
    {
      "cell_type": "code",
      "metadata": {
        "colab": {
          "base_uri": "https://localhost:8080/"
        },
        "id": "1eGaO-Cyr5Dg",
        "outputId": "5de305a7-8c13-420c-f187-c7107b00e1dd"
      },
      "source": [
        "x"
      ],
      "execution_count": 46,
      "outputs": [
        {
          "output_type": "execute_result",
          "data": {
            "text/plain": [
              "{1: 'paul', 2: 'peter'}"
            ]
          },
          "metadata": {
            "tags": []
          },
          "execution_count": 46
        }
      ]
    },
    {
      "cell_type": "code",
      "metadata": {
        "id": "wg6-bjFur6KJ"
      },
      "source": [
        "y = [1,2,3]"
      ],
      "execution_count": 47,
      "outputs": []
    },
    {
      "cell_type": "code",
      "metadata": {
        "colab": {
          "base_uri": "https://localhost:8080/"
        },
        "id": "r_cH5ckpsA7S",
        "outputId": "78d26cc3-ea69-47e9-fdd1-167dbf1cff1c"
      },
      "source": [
        "print(x,y)"
      ],
      "execution_count": 48,
      "outputs": [
        {
          "output_type": "stream",
          "text": [
            "{1: 'paul', 2: 'peter'} [1, 2, 3]\n"
          ],
          "name": "stdout"
        }
      ]
    },
    {
      "cell_type": "code",
      "metadata": {
        "colab": {
          "base_uri": "https://localhost:8080/"
        },
        "id": "gLIJSps4sB_u",
        "outputId": "f471587f-9358-4d7b-adb4-1b205afa4328"
      },
      "source": [
        "age = 24\n",
        "print('I am ', age, ' years old.')"
      ],
      "execution_count": 49,
      "outputs": [
        {
          "output_type": "stream",
          "text": [
            "I am  24  years old.\n"
          ],
          "name": "stdout"
        }
      ]
    },
    {
      "cell_type": "code",
      "metadata": {
        "colab": {
          "base_uri": "https://localhost:8080/"
        },
        "id": "LR5oAM6gsGx5",
        "outputId": "e4dfa451-e689-4a10-89e2-10d69a78056d"
      },
      "source": [
        "print('Hello there!')\n",
        "print('It is a great day.')\n",
        "\n",
        "print(\"Hello there!\", end = ' ')\n",
        "print(\"It is a great day.\")"
      ],
      "execution_count": 50,
      "outputs": [
        {
          "output_type": "stream",
          "text": [
            "Hello there!\n",
            "It is a great day.\n",
            "Hello there! It is a great day.\n"
          ],
          "name": "stdout"
        }
      ]
    },
    {
      "cell_type": "code",
      "metadata": {
        "colab": {
          "base_uri": "https://localhost:8080/"
        },
        "id": "P0KkDaFJshZJ",
        "outputId": "b557bdaa-c22b-4137-f5bf-c5cc75a4a7c5"
      },
      "source": [
        "print(\"I am %d years old.\" %24)\n",
        "print(\"I am %s.\" %'Handong')\n",
        "print('Your score is %f.' %2.3)\n",
        "print('%10s' %'abcde')\n",
        "print('Today is %d %s.' %(9, 'March'))"
      ],
      "execution_count": 52,
      "outputs": [
        {
          "output_type": "stream",
          "text": [
            "I am 24 years old.\n",
            "I am Handong.\n",
            "Your score is 2.300000.\n",
            "     abcde\n",
            "Today is 9 March.\n"
          ],
          "name": "stdout"
        }
      ]
    },
    {
      "cell_type": "code",
      "metadata": {
        "colab": {
          "base_uri": "https://localhost:8080/"
        },
        "id": "vW5Qh25qs4QG",
        "outputId": "c727bdb7-d1e0-4b10-ad41-6b2b07637eba"
      },
      "source": [
        "age = input('how old are you?')"
      ],
      "execution_count": 53,
      "outputs": [
        {
          "output_type": "stream",
          "text": [
            "how old are you? 24\n"
          ],
          "name": "stdout"
        }
      ]
    },
    {
      "cell_type": "code",
      "metadata": {
        "colab": {
          "base_uri": "https://localhost:8080/",
          "height": 35
        },
        "id": "b5_GLBhjtuS5",
        "outputId": "383f8958-5f0f-48e3-8fb4-b6a7a2119adb"
      },
      "source": [
        "age"
      ],
      "execution_count": 54,
      "outputs": [
        {
          "output_type": "execute_result",
          "data": {
            "application/vnd.google.colaboratory.intrinsic+json": {
              "type": "string"
            },
            "text/plain": [
              "' 24'"
            ]
          },
          "metadata": {
            "tags": []
          },
          "execution_count": 54
        }
      ]
    },
    {
      "cell_type": "code",
      "metadata": {
        "colab": {
          "base_uri": "https://localhost:8080/"
        },
        "id": "-gYmrDwStw0b",
        "outputId": "2c843770-fe1e-45bc-ae5c-07204554e219"
      },
      "source": [
        "vowels = ['a', 'e', 'i', 'o', 'u']\n",
        "for i, letters in enumerate(vowels):\n",
        "  print(i, letters)"
      ],
      "execution_count": 56,
      "outputs": [
        {
          "output_type": "stream",
          "text": [
            "0 a\n",
            "1 e\n",
            "2 i\n",
            "3 o\n",
            "4 u\n"
          ],
          "name": "stdout"
        }
      ]
    },
    {
      "cell_type": "code",
      "metadata": {
        "colab": {
          "base_uri": "https://localhost:8080/"
        },
        "id": "6l0hoLrCua-D",
        "outputId": "8af1be28-2d1f-482b-9eff-af0c8f558824"
      },
      "source": [
        "print(vowels[1])"
      ],
      "execution_count": 57,
      "outputs": [
        {
          "output_type": "stream",
          "text": [
            "e\n"
          ],
          "name": "stdout"
        }
      ]
    },
    {
      "cell_type": "code",
      "metadata": {
        "colab": {
          "base_uri": "https://localhost:8080/"
        },
        "id": "H2xNIPMRugd5",
        "outputId": "5cb15e81-4e97-4ec6-8e3b-aa352ca49be3"
      },
      "source": [
        "  x = 10\n",
        "  if x <= 5:\n",
        "    y = x + 5\n",
        "  elif x <= 10:\n",
        "    y = x + 10\n",
        "  else :\n",
        "    y = x\n",
        "  print(y)"
      ],
      "execution_count": 58,
      "outputs": [
        {
          "output_type": "stream",
          "text": [
            "20\n"
          ],
          "name": "stdout"
        }
      ]
    },
    {
      "cell_type": "code",
      "metadata": {
        "colab": {
          "base_uri": "https://localhost:8080/"
        },
        "id": "zTcV-xa4ve39",
        "outputId": "d7ce3a30-bb38-4e06-8b7a-3ad14b070832"
      },
      "source": [
        "for i in range(5):\n",
        "  for j in range(i):\n",
        "    print(\" \", end=\"\")\n",
        "  for j in range(5-i):\n",
        "    print(\"*\", end=\"\")\n",
        "  print('')"
      ],
      "execution_count": 115,
      "outputs": [
        {
          "output_type": "stream",
          "text": [
            "*****\n",
            " ****\n",
            "  ***\n",
            "   **\n",
            "    *\n"
          ],
          "name": "stdout"
        }
      ]
    },
    {
      "cell_type": "code",
      "metadata": {
        "id": "PuMtCKV6xXng"
      },
      "source": [
        "dates = ['Sun', 'Mon', 'Tue', 'Wed', 'Thu', 'Fri', 'Sat']"
      ],
      "execution_count": 81,
      "outputs": []
    },
    {
      "cell_type": "code",
      "metadata": {
        "colab": {
          "base_uri": "https://localhost:8080/"
        },
        "id": "4ux7gnLxzkyq",
        "outputId": "b7429bc3-c4e4-4098-fab1-0ee0e83ff460"
      },
      "source": [
        "dates"
      ],
      "execution_count": 82,
      "outputs": [
        {
          "output_type": "execute_result",
          "data": {
            "text/plain": [
              "['Sun', 'Mon', 'Tue', 'Wed', 'Thu', 'Fri', 'Sat']"
            ]
          },
          "metadata": {
            "tags": []
          },
          "execution_count": 82
        }
      ]
    },
    {
      "cell_type": "code",
      "metadata": {
        "colab": {
          "base_uri": "https://localhost:8080/"
        },
        "id": "Hc4ugqkSzl-J",
        "outputId": "5618e225-156e-4cb9-8fc0-e3094da1c7cf"
      },
      "source": [
        "days = input(\"Enter the number of days(1~31)>> \")"
      ],
      "execution_count": 84,
      "outputs": [
        {
          "output_type": "stream",
          "text": [
            "Enter the number of days(1~31)>> 31\n"
          ],
          "name": "stdout"
        }
      ]
    },
    {
      "cell_type": "code",
      "metadata": {
        "colab": {
          "base_uri": "https://localhost:8080/"
        },
        "id": "x2rb0fTZ1d-d",
        "outputId": "06917f95-a343-46bd-cd97-48e6357f5bdc"
      },
      "source": [
        "start = int(input(\"Enter the start date(0~6)>> \"))\n",
        "days = int(input(\"Enter the number of days(1~31)>> \"))\n",
        "print(' Sun Mon Tue Wed Thu Fri Sat')\n",
        "for i in range(1, days+1):\n",
        "  for j in range(start):\n",
        "    print(\" \", end=\"\")\n",
        "  print('%4d' %i, end=\"\")\n",
        "  if(i%7 == 0): \n",
        "    print()"
      ],
      "execution_count": 121,
      "outputs": [
        {
          "output_type": "stream",
          "text": [
            "Enter the start date(0~6)>> 0\n",
            "Enter the number of days(1~31)>> 31\n",
            " Sun Mon Tue Wed Thu Fri Sat\n",
            "   1   2   3   4   5   6   7\n",
            "   8   9  10  11  12  13  14\n",
            "  15  16  17  18  19  20  21\n",
            "  22  23  24  25  26  27  28\n",
            "  29  30  31"
          ],
          "name": "stdout"
        }
      ]
    },
    {
      "cell_type": "code",
      "metadata": {
        "id": "-V3ooHPQ19rj"
      },
      "source": [
        ""
      ],
      "execution_count": null,
      "outputs": []
    }
  ]
}